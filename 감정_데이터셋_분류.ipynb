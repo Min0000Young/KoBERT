{
  "nbformat": 4,
  "nbformat_minor": 0,
  "metadata": {
    "colab": {
      "private_outputs": true,
      "provenance": [],
      "gpuType": "T4",
      "authorship_tag": "ABX9TyO/cBaY7XIS42IbpC1jCtIX",
      "include_colab_link": true
    },
    "kernelspec": {
      "name": "python3",
      "display_name": "Python 3"
    },
    "language_info": {
      "name": "python"
    }
  },
  "cells": [
    {
      "cell_type": "markdown",
      "metadata": {
        "id": "view-in-github",
        "colab_type": "text"
      },
      "source": [
        "<a href=\"https://colab.research.google.com/github/Min0000Young/KoBERT/blob/main/%EA%B0%90%EC%A0%95_%EB%8D%B0%EC%9D%B4%ED%84%B0%EC%85%8B_%EB%B6%84%EB%A5%98.ipynb\" target=\"_parent\"><img src=\"https://colab.research.google.com/assets/colab-badge.svg\" alt=\"Open In Colab\"/></a>"
      ]
    },
    {
      "cell_type": "code",
      "source": [
        "!wget https://www.python.org/ftp/python/3.7.9/Python-3.7.9.tgz\n",
        "!tar xvfz Python-3.7.9.tgz\n",
        "!Python-3.7.9/configure\n",
        "!make\n",
        "!sudo make install"
      ],
      "metadata": {
        "id": "_1w6worXTzt6"
      },
      "execution_count": null,
      "outputs": []
    },
    {
      "cell_type": "code",
      "source": [
        "!pip install --upgrade setuptools"
      ],
      "metadata": {
        "id": "9iPkrda-n6Un"
      },
      "execution_count": null,
      "outputs": []
    },
    {
      "cell_type": "code",
      "source": [
        "!pip install mxnet"
      ],
      "metadata": {
        "id": "qMygHAF8OiGc"
      },
      "execution_count": null,
      "outputs": []
    },
    {
      "cell_type": "code",
      "source": [
        "!pip install gluonnlp pandas tqdm"
      ],
      "metadata": {
        "id": "qth2DR6wswWx"
      },
      "execution_count": null,
      "outputs": []
    },
    {
      "cell_type": "code",
      "source": [
        "!pip install sentencepiece==0.1.91"
      ],
      "metadata": {
        "id": "9UPIUCTmswQZ"
      },
      "execution_count": null,
      "outputs": []
    },
    {
      "cell_type": "code",
      "source": [
        "!pip install transformers==4.8.2"
      ],
      "metadata": {
        "id": "weubn5n6swKd"
      },
      "execution_count": null,
      "outputs": []
    },
    {
      "cell_type": "code",
      "source": [
        "!pip install torch"
      ],
      "metadata": {
        "id": "MmwPLJ6TswEs"
      },
      "execution_count": null,
      "outputs": []
    },
    {
      "cell_type": "code",
      "source": [
        "!pip install onnxruntime==1.8.0"
      ],
      "metadata": {
        "id": "bFli1QLJsv_0"
      },
      "execution_count": null,
      "outputs": []
    },
    {
      "cell_type": "code",
      "source": [
        "!python --version"
      ],
      "metadata": {
        "id": "NJjtmDkAoLRb"
      },
      "execution_count": null,
      "outputs": []
    },
    {
      "cell_type": "code",
      "source": [
        "!pip list"
      ],
      "metadata": {
        "id": "Nd7HH34tZAtk"
      },
      "execution_count": null,
      "outputs": []
    },
    {
      "cell_type": "code",
      "source": [
        "!pip install 'git+https://github.com/SKTBrain/KoBERT.git#egg=kobert_tokenizer&subdirectory=kobert_hf'"
      ],
      "metadata": {
        "id": "sEcTpvCDh70J"
      },
      "execution_count": null,
      "outputs": []
    },
    {
      "cell_type": "code",
      "source": [
        "!pip install git+https://git@github.com/SKTBrain/KoBERT.git@master"
      ],
      "metadata": {
        "id": "ip0FNrMDOzzd"
      },
      "execution_count": null,
      "outputs": []
    },
    {
      "cell_type": "code",
      "source": [
        "import mxnet as mx\n",
        "from kobert import get_mxnet_kobert_model\n",
        "input_id = mx.nd.array([[31, 51, 99], [15, 5, 0]])\n",
        "input_mask = mx.nd.array([[1, 1, 1], [1, 1, 0]])\n",
        "token_type_ids = mx.nd.array([[0, 0, 1], [0, 1, 0]])\n",
        "model, vocab = get_mxnet_kobert_model(use_decoder=False, use_classifier=False)\n",
        "encoder_layer, pooled_output = model(input_id, token_type_ids)\n",
        "pooled_output.shape(2, 768)\n",
        "vocab\n",
        "Vocab(size=8002, unk=\"[UNK]\", reserved=\"['[MASK]', '[SEP]', '[CLS]']\")\n",
        "# Last Encoding Layer\n",
        "encoder_layer[0]\n"
      ],
      "metadata": {
        "id": "LCYM3aykmHEO"
      },
      "execution_count": null,
      "outputs": []
    }
  ]
}